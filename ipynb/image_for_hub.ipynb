{
 "cells": [
  {
   "cell_type": "code",
   "execution_count": null,
   "id": "71687918-bf53-4895-b8ee-f84c3a73bbf2",
   "metadata": {},
   "outputs": [],
   "source": [
    "import pandas as pd\n",
    "pd.set_option('display.max_rows', 500)\n",
    "import altair as alt\n",
    "from ete3 import NCBITaxa\n",
    "ncbi = NCBITaxa()\n",
    "#ncbi.update_taxonomy_database()\n",
    "import numpy as np"
   ]
  },
  {
   "cell_type": "code",
   "execution_count": null,
   "id": "26eab5fd-b276-4d60-8f3d-97223cddbb76",
   "metadata": {},
   "outputs": [],
   "source": [
    "# This file is a VGP supplement table for Galaxy + VGP paper\n",
    "df = pd.read_excel(\"../data/vgp_table.xlsx\",\"ST2 - Assembly full list\")"
   ]
  },
  {
   "cell_type": "markdown",
   "id": "2682ddbb-859c-4037-bf4b-43da4b2e226b",
   "metadata": {},
   "source": [
    "# DANGER HERE\n",
    "This slicing below is very arbitrary and depends on the content of the spreadsheet. Check every time!"
   ]
  },
  {
   "cell_type": "code",
   "execution_count": null,
   "id": "8a447080-aa82-4108-9e00-738ae8aa50f6",
   "metadata": {},
   "outputs": [],
   "source": [
    "# At present the table is not harmonized, so some processing is required\n",
    "df = df.iloc[:73,:]"
   ]
  },
  {
   "cell_type": "code",
   "execution_count": null,
   "id": "befed351-654a-4c3c-9248-9a437053a414",
   "metadata": {},
   "outputs": [],
   "source": [
    "# If a species only has one assembly, it will be called hap1\n",
    "df.loc[ ( df['Assembly version'] != 'hap1' ) & ( df['Assembly version'] != 'hap2' ), 'Assembly version'] = 'hap1'"
   ]
  },
  {
   "cell_type": "code",
   "execution_count": null,
   "id": "5b7ab78f-2f5a-4be7-a2a3-8982dad49654",
   "metadata": {
    "tags": []
   },
   "outputs": [],
   "source": [
    "for sp, taxid in ncbi.get_name_translator(df['NCBI Species'].unique()).items():\n",
    "    lineage = ncbi.get_lineage(taxid[0])\n",
    "    for item in lineage:\n",
    "        rank = ncbi.get_rank([item])\n",
    "        for key,value in rank.items():\n",
    "            if value == 'phylum':\n",
    "                df.loc[ df['NCBI Species'] == sp ,'phylum'] = ncbi.translate_to_names([key])[0]\n",
    "            elif value == 'class':\n",
    "                df.loc[ df['NCBI Species'] == sp ,'class_']  = ncbi.translate_to_names([key])[0]\n",
    "            elif value == 'order':\n",
    "                df.loc[ df['NCBI Species'] == sp ,'order']  = ncbi.translate_to_names([key])[0]"
   ]
  },
  {
   "cell_type": "markdown",
   "id": "2aceeb05-441d-4c48-abe0-e3a96879f527",
   "metadata": {},
   "source": [
    "# DANGER HERE! \n",
    "For some stupid reason there is no `class` rank for Reptilia, so these need to be set manually:"
   ]
  },
  {
   "cell_type": "code",
   "execution_count": null,
   "id": "5a0289d5-1c45-49d8-b3d8-29438b300be9",
   "metadata": {},
   "outputs": [],
   "source": [
    "df.loc[df['class_'].isna(), 'class_'] = \"Reptilia\""
   ]
  },
  {
   "cell_type": "code",
   "execution_count": null,
   "id": "8eca95e0-7a92-4599-9cf8-00237e8bc00e",
   "metadata": {},
   "outputs": [],
   "source": [
    "for _ in df.columns: print(_)"
   ]
  },
  {
   "cell_type": "code",
   "execution_count": null,
   "id": "9c9dd72d-6fa6-4c4e-8969-ee298fc51563",
   "metadata": {},
   "outputs": [],
   "source": [
    "for _ in df['class_'].unique(): print(_)"
   ]
  },
  {
   "cell_type": "code",
   "execution_count": null,
   "id": "217d3ef4-3641-4112-aba2-918a67edd259",
   "metadata": {},
   "outputs": [],
   "source": [
    "# Phylo rank for prper ordering of classes:\n",
    "class_rank = {\n",
    "    'Actinopteri':2,\n",
    "    'Amphibia':3,\n",
    "    'Aves':6,\n",
    "    'Chondrichthyes':1,\n",
    "    'Lepidosauria':5,\n",
    "    'Mammalia':7,\n",
    "    'Reptilia':4\n",
    "}"
   ]
  },
  {
   "cell_type": "code",
   "execution_count": null,
   "id": "94dd2940-be44-46d9-95e1-c53415e6ec99",
   "metadata": {},
   "outputs": [],
   "source": [
    "for key in class_rank:\n",
    "    df.loc[df['class_']==key, 'c_rank'] = class_rank[key]"
   ]
  },
  {
   "cell_type": "code",
   "execution_count": null,
   "id": "da35f735-c7d8-4409-8708-670127c425b8",
   "metadata": {},
   "outputs": [],
   "source": [
    "df = df.sort_values(by=['c_rank','order','NCBI Species','Assembly version'],ignore_index = True).reset_index()"
   ]
  },
  {
   "cell_type": "markdown",
   "id": "5442c35e-d39e-4ae3-8d6d-029900f948c9",
   "metadata": {},
   "source": [
    "# DANGER HERE\n",
    "\n",
    "The following three `groupby`'s need to be converted to a function. They are doing slightkly different things = hence the repeatitive code"
   ]
  },
  {
   "cell_type": "code",
   "execution_count": null,
   "id": "8517ff70-6eda-4de0-9093-f6897942e454",
   "metadata": {},
   "outputs": [],
   "source": [
    "df_for_order_chart = df.groupby(\n",
    "        'order'\n",
    "    ).agg(\n",
    "        mn = pd.NamedAgg(column='index',aggfunc ='min'),\n",
    "        mx = pd.NamedAgg(column='index',aggfunc = lambda x: x.max()+1),\n",
    "        mid = pd.NamedAgg(column='index',aggfunc = lambda x: (x.min()+((x.max()-x.min())/2))),\n",
    "        class_ = pd.NamedAgg(column='class_',aggfunc = max)\n",
    "    ).reset_index()"
   ]
  },
  {
   "cell_type": "code",
   "execution_count": null,
   "id": "a133a15e-570c-42c2-8a2f-9276b4952c98",
   "metadata": {},
   "outputs": [],
   "source": [
    "df_for_order_chart.head()"
   ]
  },
  {
   "cell_type": "code",
   "execution_count": null,
   "id": "7fd5e3d8",
   "metadata": {},
   "outputs": [],
   "source": [
    "df_for_class_chart = df.groupby(\n",
    "        'class_'\n",
    "    ).agg(\n",
    "        mn = pd.NamedAgg(column='index',aggfunc ='min'),\n",
    "        mx = pd.NamedAgg(column='index',aggfunc = lambda x: x.max()+1),\n",
    "        mid = pd.NamedAgg(column='index',aggfunc = lambda x: (x.min()+((x.max()-x.min())/2))),\n",
    "    ).reset_index()"
   ]
  },
  {
   "cell_type": "code",
   "execution_count": null,
   "id": "92159697-68cb-4a3c-9b54-bc6910417d0b",
   "metadata": {},
   "outputs": [],
   "source": [
    "df_for_class_chart.head()"
   ]
  },
  {
   "cell_type": "code",
   "execution_count": null,
   "id": "508ac95d-4d95-4649-9bee-452e4ce2ee46",
   "metadata": {},
   "outputs": [],
   "source": [
    "df_for_species_chart = df.groupby(\n",
    "        ['NCBI Species','Assembly version']\n",
    "    ).agg(\n",
    "        sp = pd.NamedAgg(column='Species',aggfunc =lambda x: (x.max().replace(' ','_'))),\n",
    "        mn = pd.NamedAgg(column='index',aggfunc ='min'),\n",
    "        mx = pd.NamedAgg(column='index',aggfunc = lambda x: x.max()+1),\n",
    "        mid = pd.NamedAgg(column='index',aggfunc = lambda x: (x.min()+((x.max()-x.min())/2))),\n",
    "        species = pd.NamedAgg(column='NCBI Species',aggfunc = max),\n",
    "        class_ = pd.NamedAgg(column='class_',aggfunc = max),\n",
    "        order = pd.NamedAgg(column='order',aggfunc = max),\n",
    "        size = pd.NamedAgg(column='Genome size¹',aggfunc = lambda x: (x.max()/1000000)),\n",
    "        het = pd.NamedAgg(column='Heterozygosity¹',aggfunc = max),\n",
    "        rep = pd.NamedAgg(column='Repeat content¹',aggfunc = max),\n",
    "        s_ng50 = pd.NamedAgg(column='Scaffold NG50',aggfunc = lambda x: (x.max()/1000000)),\n",
    "        c_ng50 = pd.NamedAgg(column='Contig NG50',aggfunc = lambda x: (x.max()/1000000)),\n",
    "        sGap = pd.NamedAgg(column='Total gap length in scaffolds',aggfunc = lambda x: (x.max()/1000000)),\n",
    "        merqComp = pd.NamedAgg(column='Merqury completeness (hifi kmers) of contigs in BOTH HAPS (if pri/alt, then post-purging)',aggfunc = max),\n",
    "        buscoComp = pd.NamedAgg(column='%age complete BUSCO genes in contigs (if pri/alt, then post-purging)',aggfunc = max),\n",
    "    ).reset_index()"
   ]
  },
  {
   "cell_type": "code",
   "execution_count": null,
   "id": "7b56e188-c89c-4ed8-b6fe-79143f621401",
   "metadata": {},
   "outputs": [],
   "source": [
    "df_for_species_chart"
   ]
  },
  {
   "cell_type": "code",
   "execution_count": null,
   "id": "84f7f4f4-0c08-4e36-89ec-f1eb15b72bcc",
   "metadata": {
    "tags": []
   },
   "outputs": [],
   "source": [
    "# This is super-ugly\n",
    "# It needs to be partitioned into separate functions\n",
    "\n",
    "domain_c = df['class_'].unique()\n",
    "range_c = ['#d73027','#fc8d59','#fee090','#ffffbf','#e0f3f8','#91bfdb','#4575b4']\n",
    "\n",
    "class_chart = alt.Chart(df_for_class_chart).mark_rect(opacity=1,stroke='black', strokeWidth=.5).encode(\n",
    "    y = alt.Y('mn:Q',scale=alt.Scale(domain=[0, 72],nice=False),axis=None),\n",
    "    y2 = 'mx:Q',\n",
    "    color=alt.Color('class_:N',scale=alt.Scale(domain=domain_c,range=range_c),legend=None),\n",
    ").properties(\n",
    "        height=900,\n",
    "        width=100,\n",
    "        title = 'Class'\n",
    ")\n",
    "\n",
    "class_text = class_chart.transform_calculate(\n",
    "    link='https://www.google.com/search?q=' + alt.datum.class_\n",
    ").mark_text(color='black',align='center',baseline=\"middle\",fontSize=12,fontWeight=\"bold\",dy=-5).encode(\n",
    "    y = 'mid:Q',\n",
    "    text='class_:N',\n",
    "    color=alt.value('black'),\n",
    "    href = 'link:N',\n",
    "    #color=alt.condition(\n",
    "    #    alt.datum['name']== \"Reptilia\",\n",
    "    #    alt.value(\"white\"),\n",
    "    #    alt.value(\"black\")\n",
    "    #)\n",
    ")\n",
    "\n",
    "order_chart = alt.Chart(df_for_order_chart).mark_rect(opacity=1,stroke='black', strokeWidth=.5).encode(\n",
    "    y = alt.Y('mn:Q',scale=alt.Scale(domain=[0, 72],nice=False),axis=None),\n",
    "    y2 = 'mx:Q',\n",
    "    color=alt.Color('class_:N',scale=alt.Scale(domain=domain_c,range=range_c),legend=None),\n",
    "    opacity=alt.Opacity('order:N',legend=None)\n",
    ").properties(\n",
    "        height=900,\n",
    "        width=100,\n",
    "    title = 'Order'\n",
    ")\n",
    "\n",
    "order_text = order_chart.transform_calculate(\n",
    "    link='https://www.google.com/search?q=' + alt.datum.order\n",
    ").mark_text(color='black',align='center',baseline=\"middle\",fontSize=10,dy=-5).encode(\n",
    "    y = 'mid:Q',\n",
    "    text='order:N',\n",
    "    color=alt.value('black'),\n",
    "    opacity=alt.value(1),\n",
    "    href = 'link:N',\n",
    "    #color=alt.condition(\n",
    "    #    alt.datum['name']== \"Reptilia\",\n",
    "    #    alt.value(\"white\"),\n",
    "    #    alt.value(\"black\")\n",
    "    #)\n",
    ")\n",
    "\n",
    "species_chart = alt.Chart(df_for_species_chart).mark_rect(opacity=1,stroke='black', strokeWidth=.5).encode(\n",
    "    y = alt.Y('mn:Q',scale=alt.Scale(domain=[0, 72],nice=False),axis=None),\n",
    "    y2 = 'mx:Q',\n",
    "    #x = alt.value(10)\n",
    "    color=alt.Color('class_:N',scale=alt.Scale(domain=domain_c,range=range_c),legend=None),\n",
    "    opacity=alt.Opacity('order:N',legend=None)\n",
    ").properties(\n",
    "        height=900,\n",
    "        width=350,\n",
    "    title='Species'\n",
    ")\n",
    "\n",
    "species_text = species_chart.transform_calculate(\n",
    "    link='https://genomeark.github.io/genomeark-all/' + alt.datum.sp\n",
    ").mark_text(color='black',align='center',baseline=\"middle\",fontSize=8,dy=-5,fontStyle=\"italic\").encode(\n",
    "    y = 'mid:Q',\n",
    "    text='species:N',\n",
    "    href = 'link:N',\n",
    "    #color=alt.value('black'),\n",
    "    opacity=alt.value(1),\n",
    "    color=alt.condition(\n",
    "        alt.datum['class_']== \"Mammalia\",\n",
    "        alt.value(\"black\"),\n",
    "        alt.value(\"black\")\n",
    "    )\n",
    ")"
   ]
  },
  {
   "cell_type": "code",
   "execution_count": null,
   "id": "f67172aa-85b9-4ca4-aa30-1e6b7e98fedc",
   "metadata": {},
   "outputs": [],
   "source": [
    "def hmt(df,col,y,y2,op,scheme,m_value,format_,wid,title,stitle):\n",
    "    chart = alt.Chart(df,width=wid).mark_rect().encode(\n",
    "        y = alt.Y(y,scale=alt.Scale(domain=[0, 72],nice=False),axis=None),\n",
    "        y2 = y2,\n",
    "    color=alt.Color(col,scale=alt.Scale(scheme=scheme),legend=None),\n",
    "    ).properties(\n",
    "        height=900,\n",
    "        #width=50,\n",
    "        title={ \"text\": title,\"subtitle\":stitle }\n",
    "               \n",
    "    )\n",
    "    \n",
    "    text = chart.mark_text(color='black',align='center',baseline=\"middle\",fontSize=8,dy=-5).encode(\n",
    "    y = y,\n",
    "    text=alt.Text(col,format=format_),\n",
    "    #color=alt.value('black'),\n",
    "    opacity=alt.value(1),\n",
    "    color=alt.condition(\n",
    "        alt.datum[col] > m_value,\n",
    "        alt.value(\"white\"),\n",
    "        alt.value(\"black\")\n",
    "    )\n",
    "    )\n",
    "    return(chart + text)"
   ]
  },
  {
   "cell_type": "code",
   "execution_count": null,
   "id": "4da00046-7dad-4392-88f5-605e2f097ce5",
   "metadata": {},
   "outputs": [],
   "source": [
    "size = hmt(df_for_species_chart,'size','mn:Q','mx:Q','order','goldred',4000,\",.0f\",60,'Size','(Mb)')"
   ]
  },
  {
   "cell_type": "code",
   "execution_count": null,
   "id": "471303a1-ac24-4047-859e-ce49fa1b02d1",
   "metadata": {},
   "outputs": [],
   "source": [
    "het = hmt(df_for_species_chart,'het','mn:Q','mx:Q','order','yellowgreen',.5,\",.2f\",60,'Het','(%)')"
   ]
  },
  {
   "cell_type": "code",
   "execution_count": null,
   "id": "cfa831d1-b28d-45b1-b522-78bd314d373a",
   "metadata": {},
   "outputs": [],
   "source": [
    "rep = hmt(df_for_species_chart,'rep','mn:Q','mx:Q','order','yellowgreen',50,\",.1f\",60,'Repeat','(%)')"
   ]
  },
  {
   "cell_type": "code",
   "execution_count": null,
   "id": "cb400287-3f2f-4297-9a76-a356311fb640",
   "metadata": {},
   "outputs": [],
   "source": [
    "s_ng50 = hmt(df_for_species_chart,'s_ng50','mn:Q','mx:Q','order','goldred',500,\",.0f\",60,'Scaffold NG50','(Mb)')"
   ]
  },
  {
   "cell_type": "code",
   "execution_count": null,
   "id": "c2f6b8cb-af1c-4451-bd5f-cfd6612b734c",
   "metadata": {},
   "outputs": [],
   "source": [
    "c_ng50 = hmt(df_for_species_chart,'c_ng50','mn:Q','mx:Q','order','goldred',60,\",.0f\",60,'Contig NG50','(Mb)')"
   ]
  },
  {
   "cell_type": "code",
   "execution_count": null,
   "id": "ef7e56dd",
   "metadata": {},
   "outputs": [],
   "source": [
    "sGap = hmt(df_for_species_chart,'sGap','mn:Q','mx:Q','order','goldred',50,\",.0f\",60, 'Gaps', '(Mb)')"
   ]
  },
  {
   "cell_type": "code",
   "execution_count": null,
   "id": "fef9a980-2c96-4a91-891c-4a6eec75692b",
   "metadata": {},
   "outputs": [],
   "source": [
    "merqComp = hmt(df_for_species_chart,'merqComp','mn:Q','mx:Q','order','yellowgreen',50,\",.2f\",60, 'Merqury', '(%)')"
   ]
  },
  {
   "cell_type": "code",
   "execution_count": null,
   "id": "cd83aa74-478d-4ed9-abdd-bd042cbc3b70",
   "metadata": {},
   "outputs": [],
   "source": [
    "buscoComp = hmt(df_for_species_chart,'buscoComp','mn:Q','mx:Q','order','yellowgreen',50,\",.2f\",60, 'Busco', '(%)')"
   ]
  },
  {
   "cell_type": "code",
   "execution_count": null,
   "id": "907a29a7-c402-486e-a1e4-11e7da949664",
   "metadata": {},
   "outputs": [],
   "source": [
    "names = alt.hconcat( (class_chart + class_text ),( order_chart + order_text ),( species_chart + species_text))\n",
    "stats = alt.hconcat( size, c_ng50, s_ng50, sGap,het, rep, merqComp, buscoComp )"
   ]
  },
  {
   "cell_type": "code",
   "execution_count": null,
   "id": "0d23af61-b00b-4215-85c8-c890b564a98b",
   "metadata": {},
   "outputs": [],
   "source": [
    "species_stats = (names | stats).configure_concat(\n",
    "    spacing=0\n",
    ").configure_title(fontSize=9,subtitleFontSize=8)"
   ]
  },
  {
   "cell_type": "code",
   "execution_count": null,
   "id": "0b471f4a-a394-42f3-a1e1-73af1cc92728",
   "metadata": {},
   "outputs": [],
   "source": [
    "species_stats"
   ]
  },
  {
   "cell_type": "code",
   "execution_count": null,
   "id": "1158f6c8-b0b7-4346-a020-2b689c574c81",
   "metadata": {},
   "outputs": [],
   "source": [
    "# Save chart\n",
    "from altair_saver import save\n",
    "species_stats.save(\"../json/species_stats.vl.json\")\n",
    "#save(species_stats,\"../svg/species_stats.svg\")"
   ]
  },
  {
   "cell_type": "code",
   "execution_count": null,
   "id": "e0243e5f-3399-4470-9aba-8a5758fc10e1",
   "metadata": {},
   "outputs": [],
   "source": []
  }
 ],
 "metadata": {
  "kernelspec": {
   "display_name": "Python 3 (ipykernel)",
   "language": "python",
   "name": "python3"
  },
  "language_info": {
   "codemirror_mode": {
    "name": "ipython",
    "version": 3
   },
   "file_extension": ".py",
   "mimetype": "text/x-python",
   "name": "python",
   "nbconvert_exporter": "python",
   "pygments_lexer": "ipython3",
   "version": "3.10.8"
  }
 },
 "nbformat": 4,
 "nbformat_minor": 5
}
