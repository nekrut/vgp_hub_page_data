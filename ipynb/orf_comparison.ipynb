{
 "cells": [
  {
   "cell_type": "code",
   "execution_count": null,
   "id": "d64e2ca5-ad2a-4400-9159-7b504779b9ff",
   "metadata": {},
   "outputs": [],
   "source": [
    "import pandas as pd\n",
    "import altair as alt\n",
    "import re"
   ]
  },
  {
   "cell_type": "code",
   "execution_count": null,
   "id": "2b8518d6-e82c-4fac-99aa-a19e7ce30dd1",
   "metadata": {},
   "outputs": [],
   "source": [
    "bed_overlap = '/Users/anton/sandbox/vgp/zebraFinch/overlaps.txt'\n",
    "parsed = '/Users/anton/sandbox/vgp/zebraFinch/ovrlp_parsed.txt'\n",
    "all_orfs = '/Users/anton/sandbox/vgp/zebraFinch/orfs.bed'"
   ]
  },
  {
   "cell_type": "raw",
   "id": "affe116f-a46d-4110-b11d-4d6c90aa3d49",
   "metadata": {},
   "source": [
    "SUPER_4 3909    4044    ID=SUPER_4_ORF.9;ORF_type=complete;ORF_len=135;ORF_frame=1;Start:CAG;Stop:TGA   0       +       SUPER_4 3875    4118    ID=SUPER_4_ORF.379191;ORF_type=complete;ORF_len=243;ORF_frame=3;Start:GGA;Stop:TAG      0       +       135"
   ]
  },
  {
   "cell_type": "code",
   "execution_count": null,
   "id": "499b20e7-6ab0-4d5c-bd93-41021afbfa77",
   "metadata": {},
   "outputs": [],
   "source": [
    "ovlp = {}\n",
    "\n",
    "orf_id = re.compile('^ID=([\\w\\_\\.\\d]*);')\n",
    "with open(bed_overlap,'r') as f:\n",
    "    for line in f:\n",
    "        fields = line.rstrip().split('\\t')\n",
    "        id1 = orf_id.match(fields[3]).group(1)\n",
    "        id2 = orf_id.match(fields[9]).group(1)\n",
    "        if id1 != id2:\n",
    "            ovrp_id = ''.join(sorted([id1,id2]))\n",
    "            ovlp[ovrp_id] = [id1,id2,int(fields[len(fields)-1])]"
   ]
  },
  {
   "cell_type": "code",
   "execution_count": null,
   "id": "6ce3ecb8-6afd-47c7-8583-16f7c8ba3655",
   "metadata": {},
   "outputs": [],
   "source": [
    "with open(parsed,'w') as f:\n",
    "    for key in ovlp.keys():\n",
    "        f.write('{},{},{}\\n'.format(ovlp[key][0],ovlp[key][1],ovlp[key][2]))"
   ]
  },
  {
   "cell_type": "code",
   "execution_count": null,
   "id": "f982bed9-966b-4a19-8e40-e48eb5980689",
   "metadata": {},
   "outputs": [],
   "source": [
    "del(ovlp)"
   ]
  },
  {
   "cell_type": "code",
   "execution_count": null,
   "id": "1069d567-edf7-47d9-8873-b09dcca4d9ff",
   "metadata": {},
   "outputs": [],
   "source": [
    "overlap = pd.read_csv(parsed,names=['orf1','orf2','l'])"
   ]
  },
  {
   "cell_type": "code",
   "execution_count": null,
   "id": "e9596cf2-90d9-436b-b7af-33523f3e68a6",
   "metadata": {},
   "outputs": [],
   "source": [
    "orf_data = {\n",
    "    'id':[],\n",
    "    'start':[],\n",
    "    'end':[],\n",
    "    'type':[],\n",
    "    'len':[],\n",
    "    'frame':[],\n",
    "    's_codon':[],\n",
    "    'e_codon':[]\n",
    "}\n",
    "with open(all_orfs,'r') as f:\n",
    "    for line in f:\n",
    "        line = line.rstrip()\n",
    "        fields = line.split('\\t')\n",
    "        data = fields[3].split(';')\n",
    "        orf_data['start'].append(int(fields[1]))\n",
    "        orf_data['end'].append(int(fields[2]))\n",
    "        orf_data['id'].append(data[0][3:])\n",
    "        orf_data['type'].append(data[1][9:])\n",
    "        orf_data['len'].append(int(data[2][8:]))\n",
    "        orf_data['frame'].append(int(data[3][10:]))\n",
    "        orf_data['s_codon'].append(data[4][6:])\n",
    "        orf_data['e_codon'].append(data[5][5:])        "
   ]
  },
  {
   "cell_type": "code",
   "execution_count": null,
   "id": "87c43a90-74ea-4431-bc9b-7a16226f1760",
   "metadata": {},
   "outputs": [],
   "source": [
    "data = pd.DataFrame.from_dict(orf_data)"
   ]
  },
  {
   "cell_type": "code",
   "execution_count": null,
   "id": "bc5bc971-ad3e-4211-94b4-ac9fe2cdd4b4",
   "metadata": {},
   "outputs": [],
   "source": [
    "del(orf_data)"
   ]
  },
  {
   "cell_type": "code",
   "execution_count": null,
   "id": "e63fcd4c-7c9f-41a3-b261-c4028ff9d82a",
   "metadata": {},
   "outputs": [],
   "source": [
    "overlap = overlap.merge(data,left_on='orf1',right_on='id',how='left')"
   ]
  },
  {
   "cell_type": "code",
   "execution_count": null,
   "id": "9f0b662a-66ad-4207-87ff-67a0c75ceeeb",
   "metadata": {},
   "outputs": [],
   "source": [
    "overlap.rename(columns={\"start\":\"s1\",\"end\":\"e1\"},inplace=True)"
   ]
  },
  {
   "cell_type": "code",
   "execution_count": null,
   "id": "a53b2b67-4a60-4f47-b7e0-e9922cec620a",
   "metadata": {},
   "outputs": [],
   "source": [
    "overlap = overlap.merge(data,left_on='orf2',right_on='id',how='left')"
   ]
  },
  {
   "cell_type": "code",
   "execution_count": null,
   "id": "6f2e4cd8-4f49-42e4-aa4d-f13d3ca9b9e0",
   "metadata": {},
   "outputs": [],
   "source": [
    "overlap.rename(columns={\"start\":\"s2\",\"end\":\"e2\"},inplace=True)"
   ]
  },
  {
   "cell_type": "code",
   "execution_count": null,
   "id": "09ab214f-2696-4a5d-a7d5-5156cb07cad7",
   "metadata": {},
   "outputs": [],
   "source": [
    "overlap.head()"
   ]
  },
  {
   "cell_type": "code",
   "execution_count": null,
   "id": "773c0985-7b1e-4b4a-8c91-99b6ade6089c",
   "metadata": {},
   "outputs": [],
   "source": [
    "overlap=overlap['orf1,orf2,l,s1,e1,s2,e2,len_x,frame_x,s_codon_x,e_codon_x,len_y,frame_y,s_codon_y,e_codon_y'.split(',')]"
   ]
  },
  {
   "cell_type": "code",
   "execution_count": null,
   "id": "6ddfea8a-add5-40f3-8d3c-b0477767e88e",
   "metadata": {},
   "outputs": [],
   "source": [
    "overlap.head()"
   ]
  },
  {
   "cell_type": "code",
   "execution_count": null,
   "id": "615703ee-5bc8-4a08-84c2-f36e76f088ca",
   "metadata": {},
   "outputs": [],
   "source": [
    "# Nested case\n",
    "overlap[\n",
    "    (\n",
    "    ( ( overlap['s1'] <= overlap['s2'] ) & ( overlap['e1'] >= overlap['e2'] ) ) |\n",
    "    ( ( overlap['s1'] >= overlap['s2'] ) & ( overlap['e1'] <= overlap['e2'] ) )\n",
    "    )\n",
    "]"
   ]
  },
  {
   "cell_type": "code",
   "execution_count": null,
   "id": "0634ffad-a926-4d54-8ee2-088d20531e36",
   "metadata": {},
   "outputs": [],
   "source": [
    "# Nested case\n",
    "overlap[\n",
    "    (\n",
    "    ( ( overlap['s1'] <= overlap['s2'] ) & ( overlap['e1'] <= overlap['e2'] ) ) \n",
    "    )\n",
    "]"
   ]
  },
  {
   "cell_type": "code",
   "execution_count": null,
   "id": "a58deb63-82b5-4b1a-bfad-6e9e74e5a1ee",
   "metadata": {},
   "outputs": [],
   "source": []
  }
 ],
 "metadata": {
  "kernelspec": {
   "display_name": "Python 3 (ipykernel)",
   "language": "python",
   "name": "python3"
  },
  "language_info": {
   "codemirror_mode": {
    "name": "ipython",
    "version": 3
   },
   "file_extension": ".py",
   "mimetype": "text/x-python",
   "name": "python",
   "nbconvert_exporter": "python",
   "pygments_lexer": "ipython3",
   "version": "3.10.6"
  }
 },
 "nbformat": 4,
 "nbformat_minor": 5
}
